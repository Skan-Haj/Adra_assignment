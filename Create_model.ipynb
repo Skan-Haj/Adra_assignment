{
 "cells": [
  {
   "cell_type": "markdown",
   "metadata": {
    "id": "OPThEjGg0jUw"
   },
   "source": [
    "## Building the dataset"
   ]
  },
  {
   "cell_type": "code",
   "execution_count": null,
   "metadata": {
    "id": "NR_M9nWN-K8B"
   },
   "outputs": [],
   "source": [
    "import os\n",
    "\n",
    "train_1root_dir = os.path.join('./xrays database_split/train/1 root')\n",
    "try:\n",
    "    os.remove('./xrays database_split/train/1 root/.DS_Store')\n",
    "except:\n",
    "    pass\n",
    "\n",
    "train_2roots_dir = os.path.join('./xrays database_split/train/2 or more roots')\n",
    "try:\n",
    "    os.remove('./xrays database_split/train/2 or more roots/.DS_Store')\n",
    "except:\n",
    "    pass\n",
    "\n",
    "valid_1root_dir = os.path.join('./xrays database_split/test/1 root')\n",
    "try:\n",
    "    os.remove('./xrays database_split/test/1 root/.DS_Store')\n",
    "except:\n",
    "    pass\n",
    "\n",
    "valid_2roots_dir = os.path.join('./xrays database_split/test/2 or more roots')\n",
    "try:\n",
    "    os.remove('./xrays database_split/test/2 or more roots/.DS_Store')\n",
    "except:\n",
    "    pass"
   ]
  },
  {
   "cell_type": "code",
   "execution_count": null,
   "metadata": {
    "colab": {
     "base_uri": "https://localhost:8080/",
     "height": 85
    },
    "id": "H4XHh2xSfgie",
    "outputId": "ccb4a189-4ec8-4027-d43c-6fb0c48f56e3"
   },
   "outputs": [],
   "source": [
    "print('total training 1 root images:', len(os.listdir(train_1root_dir)))\n",
    "print('total training 2 or more roots images:', len(os.listdir(train_2roots_dir)))\n",
    "print('total validation 1 root images:', len(os.listdir(valid_1root_dir)))\n",
    "print('total validation 2 or more roots images:', len(os.listdir(valid_2roots_dir)))"
   ]
  },
  {
   "cell_type": "code",
   "execution_count": null,
   "metadata": {
    "colab": {
     "base_uri": "https://localhost:8080/",
     "height": 51
    },
    "id": "6YI-I9hkGWrL",
    "outputId": "d76e4a88-535d-4055-b5ad-93679545b966"
   },
   "outputs": [],
   "source": [
    "from tensorflow.keras.preprocessing.image import ImageDataGenerator\n",
    "\n",
    "train_datagen = ImageDataGenerator(rescale=1/255)\n",
    "validation_datagen = ImageDataGenerator(rescale=1/255)\n",
    "\n",
    "train_generator = train_datagen.flow_from_directory(\n",
    "        './xrays database_split/train/',\n",
    "        classes = ['1 root', '2 or more roots'],\n",
    "        target_size=(200, 200),\n",
    "        batch_size=10,\n",
    "        class_mode='binary')\n",
    "\n",
    "validation_generator = validation_datagen.flow_from_directory(\n",
    "        './xrays database_split/test/',\n",
    "        classes = ['1 root', '2 or more roots'],\n",
    "        target_size=(200, 200),\n",
    "        batch_size=4,\n",
    "        class_mode='binary',\n",
    "        shuffle=False)"
   ]
  },
  {
   "cell_type": "markdown",
   "metadata": {
    "id": "5oqBkNBJmtUv"
   },
   "source": [
    "## CNN creation"
   ]
  },
  {
   "cell_type": "code",
   "execution_count": null,
   "metadata": {
    "id": "qvfZg3LQbD-5"
   },
   "outputs": [],
   "source": [
    "import tensorflow as tf\n",
    "import numpy as np"
   ]
  },
  {
   "cell_type": "code",
   "execution_count": null,
   "metadata": {},
   "outputs": [],
   "source": [
    "model = tf.keras.models.Sequential([tf.keras.layers.Conv2D(16, (5,5), activation='relu', input_shape=(200, 200, 3)),\n",
    "                                    tf.keras.layers.MaxPooling2D(2, 2),\n",
    "                                    tf.keras.layers.Conv2D(32, (3,3), activation='relu'),\n",
    "                                    tf.keras.layers.MaxPooling2D(2,2),\n",
    "                                    tf.keras.layers.Conv2D(64, (3,3), activation='relu'),\n",
    "                                    tf.keras.layers.MaxPooling2D(2,2),\n",
    "                                    tf.keras.layers.Conv2D(64, (3,3), activation='relu'),\n",
    "                                    tf.keras.layers.Conv2D(64, (3,3), activation='relu'),\n",
    "                                    tf.keras.layers.Conv2D(64, (3,3), activation='relu'),\n",
    "                                    tf.keras.layers.MaxPooling2D(2,2),\n",
    "\n",
    "                                    tf.keras.layers.Flatten(),\n",
    "                                    tf.keras.layers.Dense(512, activation='relu'),\n",
    "                                    tf.keras.layers.Dense(1, activation='sigmoid')])\n",
    "\n",
    "model.summary()"
   ]
  },
  {
   "cell_type": "code",
   "execution_count": null,
   "metadata": {
    "id": "8DHWhFP_uhq3"
   },
   "outputs": [],
   "source": [
    "model.compile(optimizer = tf.optimizers.Adam(),\n",
    "              loss = 'binary_crossentropy',\n",
    "              metrics=['accuracy',tf.keras.metrics.AUC(),tf.keras.metrics.Precision(),tf.keras.metrics.Recall()])"
   ]
  },
  {
   "cell_type": "markdown",
   "metadata": {},
   "source": [
    "## Training"
   ]
  },
  {
   "cell_type": "code",
   "execution_count": null,
   "metadata": {
    "colab": {
     "base_uri": "https://localhost:8080/",
     "height": 527
    },
    "id": "Fb1_lgobv81m",
    "outputId": "3edc3cde-30c1-4533-84c6-44766198c7cf",
    "scrolled": true
   },
   "outputs": [],
   "source": [
    "history = model.fit(train_generator,\n",
    "      steps_per_epoch=8,  \n",
    "      epochs=250,\n",
    "      verbose=1,\n",
    "      validation_data = validation_generator,\n",
    "      validation_steps=8)"
   ]
  },
  {
   "cell_type": "code",
   "execution_count": null,
   "metadata": {
    "colab": {
     "base_uri": "https://localhost:8080/",
     "height": 51
    },
    "id": "eyA2zQcVKnZE",
    "outputId": "21e2045e-d466-4ef2-80c3-756021a01981"
   },
   "outputs": [],
   "source": [
    "model.evaluate(validation_generator)"
   ]
  },
  {
   "cell_type": "code",
   "execution_count": null,
   "metadata": {},
   "outputs": [],
   "source": [
    "model.save('./6Conv250Epochs')"
   ]
  }
 ],
 "metadata": {
  "colab": {
   "name": "10 Minutes to Building a Fully-Connected Image Classifier",
   "provenance": []
  },
  "kernelspec": {
   "display_name": "Python 3",
   "language": "python",
   "name": "python3"
  },
  "language_info": {
   "codemirror_mode": {
    "name": "ipython",
    "version": 3
   },
   "file_extension": ".py",
   "mimetype": "text/x-python",
   "name": "python",
   "nbconvert_exporter": "python",
   "pygments_lexer": "ipython3",
   "version": "3.7.6"
  }
 },
 "nbformat": 4,
 "nbformat_minor": 1
}
