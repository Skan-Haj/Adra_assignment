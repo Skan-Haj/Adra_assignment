{
 "cells": [
  {
   "cell_type": "code",
   "execution_count": 5,
   "metadata": {},
   "outputs": [],
   "source": [
    "from tensorflow.keras.preprocessing.image import ImageDataGenerator\n",
    "import os\n",
    "import tensorflow as tf\n",
    "import numpy as np\n",
    "\n",
    "\n",
    "model = tf.keras.models.load_model('./6Conv250Epochs')"
   ]
  },
  {
   "cell_type": "code",
   "execution_count": 16,
   "metadata": {},
   "outputs": [
    {
     "name": "stdout",
     "output_type": "stream",
     "text": [
      "Found 31 images belonging to 2 classes.\n",
      "Accuracy:  0.7096774193548387\n",
      "Accuracy for 1 root:  0.9333333333333333\n",
      "Accuracy for 2 or more roots:  0.4444444444444444\n"
     ]
    }
   ],
   "source": [
    "#Set to true to get the name and class of each file and the prediction result\n",
    "details = False\n",
    "\n",
    "upload_datagen = ImageDataGenerator(rescale=1/255)\n",
    "\n",
    "upload_datagen = upload_datagen.flow_from_directory(\n",
    "        './xrays database_split/upload/', \n",
    "        classes = ['1 root', '2 or more roots'],\n",
    "        target_size=(200, 200),  \n",
    "        batch_size=1,\n",
    "        class_mode='binary')\n",
    "\n",
    "accuracy = 0\n",
    "accuracy_0 = 0\n",
    "accuracy_1 = 0\n",
    "\n",
    "\n",
    "for i in range(len(upload_datagen)):\n",
    "    img, label = upload_datagen._get_batches_of_transformed_samples(np.array([i]))\n",
    "    pred = int(round(model.predict(upload_datagen._get_batches_of_transformed_samples(np.array([i]))[0])[0][0]))\n",
    "    if(label == pred and label == 0): \n",
    "        accuracy+=1\n",
    "        accuracy_0+=1\n",
    "    elif(label == pred and label == 1): \n",
    "        accuracy+=1\n",
    "        accuracy_1+=1\n",
    "    if(details):\n",
    "        print((upload_datagen.filepaths[i]))\n",
    "        print('Original label: ',list(upload_datagen.class_indices.keys())[int(label)],' |  Predicted label: ',list(upload_datagen.class_indices.keys())[pred],'\\n')\n",
    "    \n",
    "accuracy /= len(upload_datagen)\n",
    "accuracy_0 /= len(os.listdir('./xrays database_split/upload/1 root/'))\n",
    "accuracy_1 /= len(os.listdir('./xrays database_split/upload/2 or more roots/'))\n",
    "\n",
    "print('Accuracy: ', accuracy)\n",
    "print('Accuracy for 1 root: ', accuracy_0)\n",
    "print('Accuracy for 2 or more roots: ', accuracy_1)"
   ]
  },
  {
   "cell_type": "code",
   "execution_count": null,
   "metadata": {},
   "outputs": [],
   "source": []
  }
 ],
 "metadata": {
  "kernelspec": {
   "display_name": "Python 3",
   "language": "python",
   "name": "python3"
  },
  "language_info": {
   "codemirror_mode": {
    "name": "ipython",
    "version": 3
   },
   "file_extension": ".py",
   "mimetype": "text/x-python",
   "name": "python",
   "nbconvert_exporter": "python",
   "pygments_lexer": "ipython3",
   "version": "3.7.6"
  }
 },
 "nbformat": 4,
 "nbformat_minor": 4
}
